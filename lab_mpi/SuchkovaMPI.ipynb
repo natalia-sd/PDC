{
  "nbformat": 4,
  "nbformat_minor": 0,
  "metadata": {
    "colab": {
      "provenance": []
    },
    "kernelspec": {
      "name": "python3",
      "display_name": "Python 3"
    },
    "language_info": {
      "name": "python"
    }
  },
  "cells": [
    {
      "cell_type": "markdown",
      "source": [
        "### Lab Work 3. Neural Nets, Segmentation, MPI.\n",
        "#### Natalia Suchkova, group M8O-114M-22"
      ],
      "metadata": {
        "id": "qEifZ7Apb_NH"
      }
    },
    {
      "cell_type": "code",
      "source": [
        "!touch train.py"
      ],
      "metadata": {
        "id": "XvlAltGpE8RF"
      },
      "execution_count": 1,
      "outputs": []
    },
    {
      "cell_type": "code",
      "source": [
        "# !pip install torchmetrics\n",
        "# !pip install mpi4py"
      ],
      "metadata": {
        "id": "TcK0XpXwatQL"
      },
      "execution_count": 3,
      "outputs": []
    },
    {
      "cell_type": "code",
      "source": [
        "# !mkdir segmentation"
      ],
      "metadata": {
        "id": "9vNShVYwR-JY"
      },
      "execution_count": 4,
      "outputs": []
    },
    {
      "cell_type": "code",
      "source": [
        "# from google.colab import drive\n",
        "# drive.mount('/content/drive/')"
      ],
      "metadata": {
        "colab": {
          "base_uri": "https://localhost:8080/"
        },
        "id": "NGPAae_5cHqx",
        "outputId": "a41689e6-899e-4660-fad1-6e208a4a3124"
      },
      "execution_count": 5,
      "outputs": [
        {
          "output_type": "stream",
          "name": "stdout",
          "text": [
            "Mounted at /content/drive/\n"
          ]
        }
      ]
    },
    {
      "cell_type": "code",
      "source": [
        "# !unzip /content/drive/MyDrive/segm/archive.zip -d ./segmentation/"
      ],
      "metadata": {
        "id": "7nNl5OfuAutA",
        "colab": {
          "base_uri": "https://localhost:8080/"
        },
        "outputId": "fe2ee8ac-d3df-48cf-c74c-84fe33aad386"
      },
      "execution_count": 6,
      "outputs": [
        {
          "output_type": "stream",
          "name": "stdout",
          "text": [
            "Archive:  /content/drive/MyDrive/segm/archive.zip\n",
            "  inflating: ./segmentation/0016E5_07959.png  \n",
            "  inflating: ./segmentation/0016E5_07959_L.png  \n",
            "  inflating: ./segmentation/0016E5_07961.png  \n",
            "  inflating: ./segmentation/0016E5_07961_L.png  \n",
            "  inflating: ./segmentation/0016E5_07963.png  \n",
            "  inflating: ./segmentation/0016E5_07963_L.png  \n",
            "  inflating: ./segmentation/0016E5_07965.png  \n",
            "  inflating: ./segmentation/0016E5_07965_L.png  \n",
            "  inflating: ./segmentation/0016E5_07967.png  \n",
            "  inflating: ./segmentation/0016E5_07967_L.png  \n",
            "  inflating: ./segmentation/0016E5_07969.png  \n",
            "  inflating: ./segmentation/0016E5_07969_L.png  \n",
            "  inflating: ./segmentation/0016E5_07971.png  \n",
            "  inflating: ./segmentation/0016E5_07971_L.png  \n",
            "  inflating: ./segmentation/0016E5_07973.png  \n",
            "  inflating: ./segmentation/0016E5_07973_L.png  \n",
            "  inflating: ./segmentation/0016E5_07975.png  \n",
            "  inflating: ./segmentation/0016E5_07975_L.png  \n",
            "  inflating: ./segmentation/0016E5_07977.png  \n",
            "  inflating: ./segmentation/0016E5_07977_L.png  \n",
            "  inflating: ./segmentation/0016E5_07979.png  \n",
            "  inflating: ./segmentation/0016E5_07979_L.png  \n",
            "  inflating: ./segmentation/0016E5_07981.png  \n",
            "  inflating: ./segmentation/0016E5_07981_L.png  \n",
            "  inflating: ./segmentation/0016E5_07983.png  \n",
            "  inflating: ./segmentation/0016E5_07983_L.png  \n",
            "  inflating: ./segmentation/0016E5_07985.png  \n",
            "  inflating: ./segmentation/0016E5_07985_L.png  \n",
            "  inflating: ./segmentation/0016E5_07987.png  \n",
            "  inflating: ./segmentation/0016E5_07987_L.png  \n",
            "  inflating: ./segmentation/0016E5_07989.png  \n",
            "  inflating: ./segmentation/0016E5_07989_L.png  \n",
            "  inflating: ./segmentation/0016E5_07991.png  \n",
            "  inflating: ./segmentation/0016E5_07991_L.png  \n",
            "  inflating: ./segmentation/0016E5_07993.png  \n",
            "  inflating: ./segmentation/0016E5_07993_L.png  \n",
            "  inflating: ./segmentation/0016E5_07995.png  \n",
            "  inflating: ./segmentation/0016E5_07995_L.png  \n",
            "  inflating: ./segmentation/0016E5_07997.png  \n",
            "  inflating: ./segmentation/0016E5_07997_L.png  \n",
            "  inflating: ./segmentation/0016E5_07999.png  \n",
            "  inflating: ./segmentation/0016E5_07999_L.png  \n",
            "  inflating: ./segmentation/0016E5_08001.png  \n",
            "  inflating: ./segmentation/0016E5_08001_L.png  \n",
            "  inflating: ./segmentation/0016E5_08003.png  \n",
            "  inflating: ./segmentation/0016E5_08003_L.png  \n",
            "  inflating: ./segmentation/0016E5_08005.png  \n",
            "  inflating: ./segmentation/0016E5_08005_L.png  \n",
            "  inflating: ./segmentation/0016E5_08007.png  \n",
            "  inflating: ./segmentation/0016E5_08007_L.png  \n",
            "  inflating: ./segmentation/0016E5_08009.png  \n",
            "  inflating: ./segmentation/0016E5_08009_L.png  \n",
            "  inflating: ./segmentation/0016E5_08011.png  \n",
            "  inflating: ./segmentation/0016E5_08011_L.png  \n",
            "  inflating: ./segmentation/0016E5_08013.png  \n",
            "  inflating: ./segmentation/0016E5_08013_L.png  \n",
            "  inflating: ./segmentation/0016E5_08015.png  \n",
            "  inflating: ./segmentation/0016E5_08015_L.png  \n",
            "  inflating: ./segmentation/0016E5_08017.png  \n",
            "  inflating: ./segmentation/0016E5_08017_L.png  \n",
            "  inflating: ./segmentation/0016E5_08019.png  \n",
            "  inflating: ./segmentation/0016E5_08019_L.png  \n",
            "  inflating: ./segmentation/0016E5_08021.png  \n",
            "  inflating: ./segmentation/0016E5_08021_L.png  \n",
            "  inflating: ./segmentation/0016E5_08023.png  \n",
            "  inflating: ./segmentation/0016E5_08023_L.png  \n",
            "  inflating: ./segmentation/0016E5_08025.png  \n",
            "  inflating: ./segmentation/0016E5_08025_L.png  \n",
            "  inflating: ./segmentation/0016E5_08027.png  \n",
            "  inflating: ./segmentation/0016E5_08027_L.png  \n",
            "  inflating: ./segmentation/0016E5_08029.png  \n",
            "  inflating: ./segmentation/0016E5_08029_L.png  \n",
            "  inflating: ./segmentation/0016E5_08031.png  \n",
            "  inflating: ./segmentation/0016E5_08031_L.png  \n",
            "  inflating: ./segmentation/0016E5_08033.png  \n",
            "  inflating: ./segmentation/0016E5_08033_L.png  \n",
            "  inflating: ./segmentation/0016E5_08035.png  \n",
            "  inflating: ./segmentation/0016E5_08035_L.png  \n",
            "  inflating: ./segmentation/0016E5_08037.png  \n",
            "  inflating: ./segmentation/0016E5_08037_L.png  \n",
            "  inflating: ./segmentation/0016E5_08039.png  \n",
            "  inflating: ./segmentation/0016E5_08039_L.png  \n",
            "  inflating: ./segmentation/0016E5_08041.png  \n",
            "  inflating: ./segmentation/0016E5_08041_L.png  \n",
            "  inflating: ./segmentation/0016E5_08043.png  \n",
            "  inflating: ./segmentation/0016E5_08043_L.png  \n",
            "  inflating: ./segmentation/0016E5_08045.png  \n",
            "  inflating: ./segmentation/0016E5_08045_L.png  \n",
            "  inflating: ./segmentation/0016E5_08047.png  \n",
            "  inflating: ./segmentation/0016E5_08047_L.png  \n",
            "  inflating: ./segmentation/0016E5_08049.png  \n",
            "  inflating: ./segmentation/0016E5_08049_L.png  \n",
            "  inflating: ./segmentation/0016E5_08051.png  \n",
            "  inflating: ./segmentation/0016E5_08051_L.png  \n",
            "  inflating: ./segmentation/0016E5_08053.png  \n",
            "  inflating: ./segmentation/0016E5_08053_L.png  \n",
            "  inflating: ./segmentation/0016E5_08055.png  \n",
            "  inflating: ./segmentation/0016E5_08055_L.png  \n",
            "  inflating: ./segmentation/0016E5_08057.png  \n",
            "  inflating: ./segmentation/0016E5_08057_L.png  \n",
            "  inflating: ./segmentation/0016E5_08059.png  \n",
            "  inflating: ./segmentation/0016E5_08059_L.png  \n",
            "  inflating: ./segmentation/0016E5_08061.png  \n",
            "  inflating: ./segmentation/0016E5_08061_L.png  \n",
            "  inflating: ./segmentation/0016E5_08063.png  \n",
            "  inflating: ./segmentation/0016E5_08063_L.png  \n",
            "  inflating: ./segmentation/0016E5_08065.png  \n",
            "  inflating: ./segmentation/0016E5_08065_L.png  \n",
            "  inflating: ./segmentation/0016E5_08067.png  \n",
            "  inflating: ./segmentation/0016E5_08067_L.png  \n",
            "  inflating: ./segmentation/0016E5_08069.png  \n",
            "  inflating: ./segmentation/0016E5_08069_L.png  \n",
            "  inflating: ./segmentation/0016E5_08071.png  \n",
            "  inflating: ./segmentation/0016E5_08071_L.png  \n",
            "  inflating: ./segmentation/0016E5_08073.png  \n",
            "  inflating: ./segmentation/0016E5_08073_L.png  \n",
            "  inflating: ./segmentation/0016E5_08075.png  \n",
            "  inflating: ./segmentation/0016E5_08075_L.png  \n",
            "  inflating: ./segmentation/0016E5_08077.png  \n",
            "  inflating: ./segmentation/0016E5_08077_L.png  \n",
            "  inflating: ./segmentation/0016E5_08079.png  \n",
            "  inflating: ./segmentation/0016E5_08079_L.png  \n",
            "  inflating: ./segmentation/0016E5_08081.png  \n",
            "  inflating: ./segmentation/0016E5_08081_L.png  \n",
            "  inflating: ./segmentation/0016E5_08083.png  \n",
            "  inflating: ./segmentation/0016E5_08083_L.png  \n",
            "  inflating: ./segmentation/0016E5_08085.png  \n",
            "  inflating: ./segmentation/0016E5_08085_L.png  \n",
            "  inflating: ./segmentation/0016E5_08087.png  \n",
            "  inflating: ./segmentation/0016E5_08087_L.png  \n",
            "  inflating: ./segmentation/0016E5_08089.png  \n",
            "  inflating: ./segmentation/0016E5_08089_L.png  \n",
            "  inflating: ./segmentation/0016E5_08091.png  \n",
            "  inflating: ./segmentation/0016E5_08091_L.png  \n",
            "  inflating: ./segmentation/0016E5_08093.png  \n",
            "  inflating: ./segmentation/0016E5_08093_L.png  \n",
            "  inflating: ./segmentation/0016E5_08095.png  \n",
            "  inflating: ./segmentation/0016E5_08095_L.png  \n",
            "  inflating: ./segmentation/0016E5_08097.png  \n",
            "  inflating: ./segmentation/0016E5_08097_L.png  \n",
            "  inflating: ./segmentation/0016E5_08099.png  \n",
            "  inflating: ./segmentation/0016E5_08099_L.png  \n",
            "  inflating: ./segmentation/0016E5_08101.png  \n",
            "  inflating: ./segmentation/0016E5_08101_L.png  \n",
            "  inflating: ./segmentation/0016E5_08103.png  \n",
            "  inflating: ./segmentation/0016E5_08103_L.png  \n",
            "  inflating: ./segmentation/0016E5_08105.png  \n",
            "  inflating: ./segmentation/0016E5_08105_L.png  \n",
            "  inflating: ./segmentation/0016E5_08107.png  \n",
            "  inflating: ./segmentation/0016E5_08107_L.png  \n",
            "  inflating: ./segmentation/0016E5_08109.png  \n",
            "  inflating: ./segmentation/0016E5_08109_L.png  \n",
            "  inflating: ./segmentation/0016E5_08111.png  \n",
            "  inflating: ./segmentation/0016E5_08111_L.png  \n",
            "  inflating: ./segmentation/0016E5_08113.png  \n",
            "  inflating: ./segmentation/0016E5_08113_L.png  \n",
            "  inflating: ./segmentation/0016E5_08115.png  \n",
            "  inflating: ./segmentation/0016E5_08115_L.png  \n",
            "  inflating: ./segmentation/0016E5_08117.png  \n",
            "  inflating: ./segmentation/0016E5_08117_L.png  \n",
            "  inflating: ./segmentation/0016E5_08119.png  \n",
            "  inflating: ./segmentation/0016E5_08119_L.png  \n",
            "  inflating: ./segmentation/0016E5_08121.png  \n",
            "  inflating: ./segmentation/0016E5_08121_L.png  \n",
            "  inflating: ./segmentation/0016E5_08123.png  \n",
            "  inflating: ./segmentation/0016E5_08123_L.png  \n",
            "  inflating: ./segmentation/0016E5_08125.png  \n",
            "  inflating: ./segmentation/0016E5_08125_L.png  \n",
            "  inflating: ./segmentation/0016E5_08127.png  \n",
            "  inflating: ./segmentation/0016E5_08127_L.png  \n",
            "  inflating: ./segmentation/0016E5_08129.png  \n",
            "  inflating: ./segmentation/0016E5_08129_L.png  \n",
            "  inflating: ./segmentation/0016E5_08131.png  \n",
            "  inflating: ./segmentation/0016E5_08131_L.png  \n",
            "  inflating: ./segmentation/0016E5_08133.png  \n",
            "  inflating: ./segmentation/0016E5_08133_L.png  \n",
            "  inflating: ./segmentation/0016E5_08135.png  \n",
            "  inflating: ./segmentation/0016E5_08135_L.png  \n",
            "  inflating: ./segmentation/0016E5_08137.png  \n",
            "  inflating: ./segmentation/0016E5_08137_L.png  \n",
            "  inflating: ./segmentation/0016E5_08139.png  \n",
            "  inflating: ./segmentation/0016E5_08139_L.png  \n",
            "  inflating: ./segmentation/0016E5_08141.png  \n",
            "  inflating: ./segmentation/0016E5_08141_L.png  \n",
            "  inflating: ./segmentation/0016E5_08143.png  \n",
            "  inflating: ./segmentation/0016E5_08143_L.png  \n",
            "  inflating: ./segmentation/0016E5_08145.png  \n",
            "  inflating: ./segmentation/0016E5_08145_L.png  \n",
            "  inflating: ./segmentation/0016E5_08147.png  \n",
            "  inflating: ./segmentation/0016E5_08147_L.png  \n",
            "  inflating: ./segmentation/0016E5_08149.png  \n",
            "  inflating: ./segmentation/0016E5_08149_L.png  \n",
            "  inflating: ./segmentation/0016E5_08151.png  \n",
            "  inflating: ./segmentation/0016E5_08151_L.png  \n",
            "  inflating: ./segmentation/0016E5_08153.png  \n",
            "  inflating: ./segmentation/0016E5_08153_L.png  \n",
            "  inflating: ./segmentation/0016E5_08155.png  \n",
            "  inflating: ./segmentation/0016E5_08155_L.png  \n",
            "  inflating: ./segmentation/0016E5_08157.png  \n",
            "  inflating: ./segmentation/0016E5_08157_L.png  \n",
            "  inflating: ./segmentation/0016E5_08159.png  \n",
            "  inflating: ./segmentation/0016E5_08159_L.png  \n",
            "  inflating: ./segmentation/label_colors.txt  \n",
            "  inflating: ./segmentation/readme.txt  \n"
          ]
        }
      ]
    },
    {
      "cell_type": "code",
      "source": [
        "%cd segmentation\n",
        "%matplotlib inline"
      ],
      "metadata": {
        "colab": {
          "base_uri": "https://localhost:8080/"
        },
        "id": "Sma9Od3iSsEF",
        "outputId": "678873b0-fb08-463b-d781-b678d5265016"
      },
      "execution_count": 7,
      "outputs": [
        {
          "output_type": "stream",
          "name": "stdout",
          "text": [
            "/content/segmentation\n"
          ]
        }
      ]
    },
    {
      "cell_type": "code",
      "source": [
        "%rm -rf .ipynb_checkpoints"
      ],
      "metadata": {
        "id": "A5ZB7-7qCN7f"
      },
      "execution_count": 8,
      "outputs": []
    },
    {
      "cell_type": "markdown",
      "source": [
        "Датасет CamSeq: [ссылка](https://www.kaggle.com/datasets/carlolepelaars/camseq-semantic-segmentation?resource=download)"
      ],
      "metadata": {
        "id": "elccRRnvcSB9"
      }
    },
    {
      "cell_type": "code",
      "source": [
        "!mpirun -np 4 --allow-run-as-root python ../train.py"
      ],
      "metadata": {
        "colab": {
          "base_uri": "https://localhost:8080/"
        },
        "id": "IlsshgFW7E3Y",
        "outputId": "0f7d9ac6-8b3a-4a22-c128-6355bf263969"
      },
      "execution_count": 9,
      "outputs": [
        {
          "output_type": "stream",
          "name": "stdout",
          "text": [
            "/usr/local/lib/python3.8/dist-packages/torchvision/models/_utils.py:208: UserWarning: The parameter 'pretrained' is deprecated since 0.13 and may be removed in the future, please use 'weights' instead.\n",
            "  warnings.warn(\n",
            "/usr/local/lib/python3.8/dist-packages/torchvision/models/_utils.py:223: UserWarning: Arguments other than a weight enum or `None` for 'weights' are deprecated since 0.13 and may be removed in the future. The current behavior is equivalent to passing `weights=None`.\n",
            "  warnings.warn(msg)\n",
            "Downloading: \"https://download.pytorch.org/models/mobilenet_v3_large-8738ca79.pth\" to /root/.cache/torch/hub/checkpoints/mobilenet_v3_large-8738ca79.pth\n",
            "\r  0%|          | 0.00/21.1M [00:00<?, ?B/s]/usr/local/lib/python3.8/dist-packages/torchvision/models/_utils.py:208: UserWarning: The parameter 'pretrained' is deprecated since 0.13 and may be removed in the future, please use 'weights' instead.\n",
            "  warnings.warn(\n",
            "/usr/local/lib/python3.8/dist-packages/torchvision/models/_utils.py:223: UserWarning: Arguments other than a weight enum or `None` for 'weights' are deprecated since 0.13 and may be removed in the future. The current behavior is equivalent to passing `weights=None`.\n",
            "  warnings.warn(msg)\n",
            "Downloading: \"https://download.pytorch.org/models/mobilenet_v3_large-8738ca79.pth\" to /root/.cache/torch/hub/checkpoints/mobilenet_v3_large-8738ca79.pth\n",
            "\r  0%|          | 0.00/21.1M [00:00<?, ?B/s]/usr/local/lib/python3.8/dist-packages/torchvision/models/_utils.py:208: UserWarning: The parameter 'pretrained' is deprecated since 0.13 and may be removed in the future, please use 'weights' instead.\n",
            "  warnings.warn(\n",
            "/usr/local/lib/python3.8/dist-packages/torchvision/models/_utils.py:223: UserWarning: Arguments other than a weight enum or `None` for 'weights' are deprecated since 0.13 and may be removed in the future. The current behavior is equivalent to passing `weights=None`.\n",
            "  warnings.warn(msg)\n",
            "Downloading: \"https://download.pytorch.org/models/mobilenet_v3_large-8738ca79.pth\" to /root/.cache/torch/hub/checkpoints/mobilenet_v3_large-8738ca79.pth\n",
            "\r  0%|          | 0.00/21.1M [00:00<?, ?B/s]/usr/local/lib/python3.8/dist-packages/torchvision/models/_utils.py:208: UserWarning: The parameter 'pretrained' is deprecated since 0.13 and may be removed in the future, please use 'weights' instead.\n",
            "  warnings.warn(\n",
            "/usr/local/lib/python3.8/dist-packages/torchvision/models/_utils.py:223: UserWarning: Arguments other than a weight enum or `None` for 'weights' are deprecated since 0.13 and may be removed in the future. The current behavior is equivalent to passing `weights=None`.\n",
            "  warnings.warn(msg)\n",
            "Downloading: \"https://download.pytorch.org/models/mobilenet_v3_large-8738ca79.pth\" to /root/.cache/torch/hub/checkpoints/mobilenet_v3_large-8738ca79.pth\n",
            "100%|██████████| 21.1M/21.1M [00:00<00:00, 45.7MB/s]Epoch 1/10\n",
            "\n",
            "100%|██████████| 25/25 [02:48<00:00,  6.74s/it]\n",
            "  0%|          | 0/13 [00:00<?, ?it/s]Process: 3, train loss: 2.301429033279419, train IoU: 0.08954852819442749\n",
            "Process: 1, train loss: 2.1958813667297363, train IoU: 0.10705409944057465\n",
            "Process: 2, train loss: 2.357804536819458, train IoU: 0.09403779357671738\n",
            "100%|██████████| 13/13 [01:09<00:00,  5.34s/it]Process: 2, validation loss: 2.1344757080078125, train IoU: 0.05880703032016754\n",
            "Process: 3, validation loss: 2.1148953437805176, train IoU: 0.06944995373487473\n",
            "Epoch 2/10\n",
            "\n",
            "Process: 1, validation loss: 2.0970234870910645, train IoU: 0.05773531645536423\n",
            "100%|██████████| 25/25 [02:43<00:00,  6.55s/it]Process: 1, train loss: 0.7776106595993042, train IoU: 0.1223636344075203\n",
            "Process: 3, train loss: 0.830994725227356, train IoU: 0.12680481374263763\n",
            "Process: 2, train loss: 0.7546292543411255, train IoU: 0.12783344089984894\n",
            "\n",
            "100%|██████████| 13/13 [01:06<00:00,  5.09s/it]Process: 2, validation loss: 1.4879506826400757, train IoU: 0.0985371544957161\n",
            "Epoch 3/10\n",
            "\n",
            "  0%|          | 0/25 [00:00<?, ?it/s]Process: 3, validation loss: 1.6170214414596558, train IoU: 0.0839666798710823\n",
            "Process: 1, validation loss: 1.2614790201187134, train IoU: 0.10090013593435287\n",
            "100%|██████████| 25/25 [02:44<00:00,  6.58s/it]Process: 2, train loss: 0.5445842146873474, train IoU: 0.15034477412700653\n",
            "\n",
            "Process: 3, train loss: 0.5337184071540833, train IoU: 0.1544424146413803\n",
            "  0%|          | 0/13 [00:00<?, ?it/s]Process: 1, train loss: 0.5072135925292969, train IoU: 0.15958118438720703\n",
            "100%|██████████| 13/13 [01:07<00:00,  5.16s/it]Process: 1, validation loss: 1.4149833917617798, train IoU: 0.10892430692911148\n",
            "Process: 2, validation loss: 1.1707391738891602, train IoU: 0.1314045935869217\n",
            "Epoch 4/10\n",
            "\n",
            "  0%|          | 0/25 [00:00<?, ?it/s]Process: 3, validation loss: 1.1726263761520386, train IoU: 0.12166968733072281\n",
            "100%|██████████| 25/25 [02:49<00:00,  6.76s/it]Process: 1, train loss: 0.42198848724365234, train IoU: 0.16850343346595764\n",
            "Process: 2, train loss: 0.42661112546920776, train IoU: 0.1801426261663437\n",
            "\n",
            "  0%|          | 0/13 [00:00<?, ?it/s]Process: 3, train loss: 0.4186839461326599, train IoU: 0.17818103730678558\n",
            "100%|██████████| 13/13 [01:05<00:00,  5.02s/it]Epoch 5/10\n",
            "\n",
            "  0%|          | 0/25 [00:00<?, ?it/s]Process: 2, validation loss: 0.8331714868545532, train IoU: 0.15727844834327698\n",
            "Process: 3, validation loss: 1.0741246938705444, train IoU: 0.1482176035642624\n",
            "Process: 1, validation loss: 1.2576452493667603, train IoU: 0.13411200046539307\n",
            "100%|██████████| 25/25 [02:45<00:00,  6.61s/it]Process: 1, train loss: 0.3337491750717163, train IoU: 0.1940333992242813\n",
            "\n",
            "  0%|          | 0/13 [00:00<?, ?it/s]Process: 3, train loss: 0.36308610439300537, train IoU: 0.1970546692609787\n",
            "Process: 2, train loss: 0.36582618951797485, train IoU: 0.19807089865207672\n",
            "100%|██████████| 13/13 [01:07<00:00,  5.20s/it]Process: 1, validation loss: 0.8259843587875366, train IoU: 0.1667994260787964\n",
            "Epoch 6/10\n",
            "Process: 2, validation loss: 0.9258255958557129, train IoU: 0.1527019739151001\n",
            "Process: 3, validation loss: 0.7289234399795532, train IoU: 0.1845313012599945\n",
            "\n",
            "100%|██████████| 25/25 [02:42<00:00,  6.52s/it]Process: 2, train loss: 0.3014668822288513, train IoU: 0.21468251943588257\n",
            "\n",
            "Process: 3, train loss: 0.3147062659263611, train IoU: 0.22974108159542084\n",
            "  0%|          | 0/13 [00:00<?, ?it/s]Process: 1, train loss: 0.31633973121643066, train IoU: 0.21476198732852936\n",
            "100%|██████████| 13/13 [01:08<00:00,  5.27s/it]Epoch 7/10\n",
            "\n",
            "  0%|          | 0/25 [00:00<?, ?it/s]Process: 1, validation loss: 0.9029412269592285, train IoU: 0.17716363072395325\n",
            "Process: 3, validation loss: 0.6059814691543579, train IoU: 0.21728092432022095\n",
            "Process: 2, validation loss: 0.6850634813308716, train IoU: 0.18643885850906372\n",
            "100%|██████████| 25/25 [02:43<00:00,  6.55s/it]Process: 1, train loss: 0.2777288854122162, train IoU: 0.22950328886508942\n",
            "Process: 3, train loss: 0.32653528451919556, train IoU: 0.24845965206623077\n",
            "\n",
            "  0%|          | 0/13 [00:00<?, ?it/s]Process: 2, train loss: 0.26773983240127563, train IoU: 0.2497900277376175\n",
            "100%|██████████| 13/13 [01:07<00:00,  5.23s/it]Process: 1, validation loss: 0.7143917679786682, train IoU: 0.2012929618358612\n",
            "Process: 3, validation loss: 0.5380262732505798, train IoU: 0.2417091727256775\n",
            "Epoch 8/10\n",
            "\n",
            "  0%|          | 0/25 [00:00<?, ?it/s]Process: 2, validation loss: 0.6117350459098816, train IoU: 0.21105366945266724\n",
            "100%|██████████| 25/25 [02:40<00:00,  6.42s/it]Process: 3, train loss: 0.2749582827091217, train IoU: 0.2697266638278961\n",
            "Process: 1, train loss: 0.257364958524704, train IoU: 0.24971501529216766\n",
            "\n",
            "  0%|          | 0/13 [00:00<?, ?it/s]Process: 2, train loss: 0.24060176312923431, train IoU: 0.2729206383228302\n",
            "100%|██████████| 13/13 [01:04<00:00,  5.00s/it]Process: 2, validation loss: 0.5353866815567017, train IoU: 0.24748043715953827\n",
            "Epoch 9/10\n",
            "\n",
            "Process: 1, validation loss: 0.522397518157959, train IoU: 0.23803000152111053\n",
            "Process: 3, validation loss: 0.41728246212005615, train IoU: 0.2753722071647644\n",
            "100%|██████████| 25/25 [02:47<00:00,  6.69s/it]Process: 3, train loss: 0.23413416743278503, train IoU: 0.29157280921936035\n",
            "\n",
            "  0%|          | 0/13 [00:00<?, ?it/s]Process: 1, train loss: 0.22786405682563782, train IoU: 0.2787341773509979\n",
            "Process: 2, train loss: 0.21398501098155975, train IoU: 0.30239275097846985\n",
            "100%|██████████| 13/13 [01:07<00:00,  5.20s/it]Process: 2, validation loss: 0.4559582769870758, train IoU: 0.28024476766586304\n",
            "Epoch 10/10\n",
            "Process: 3, validation loss: 0.42056363821029663, train IoU: 0.27235499024391174\n",
            "Process: 1, validation loss: 0.43757811188697815, train IoU: 0.2700226604938507\n",
            "\n",
            "100%|██████████| 25/25 [02:41<00:00,  6.45s/it]Process: 1, train loss: 0.2061428427696228, train IoU: 0.3043134808540344\n",
            "Process: 3, train loss: 0.20972800254821777, train IoU: 0.3054862916469574\n",
            "\n",
            "Process: 2, train loss: 0.19649744033813477, train IoU: 0.31788575649261475\n",
            "100%|██████████| 13/13 [01:06<00:00,  5.09s/it]Process: 1, validation loss: 0.3246578574180603, train IoU: 0.2791091501712799\n",
            "Process: 3, validation loss: 0.35120928287506104, train IoU: 0.2943471074104309\n",
            "Process: 2, validation loss: 0.4048720896244049, train IoU: 0.29114437103271484\n",
            "\n",
            "  0%|          | 0/13 [00:00<?, ?it/s]\n",
            "  0%|          | 0/13 [00:00<?, ?it/s]\n",
            "  0%|          | 0/13 [00:00<?, ?it/s]\n",
            "100%|██████████| 13/13 [02:27<00:00, 11.36s/it]Process: 1, test loss: 0.3562733232975006, test IoU: 0.26470378041267395\n",
            "\n",
            "100%|██████████| 13/13 [02:28<00:00, 11.39s/it]Process: 2, test loss: 0.40547892451286316, test IoU: 0.30263400077819824\n",
            "\n",
            "100%|██████████| 13/13 [02:29<00:00, 11.50s/it]Process: 3, test loss: 0.3645792603492737, test IoU: 0.28102967143058777\n",
            "\n",
            "100%|██████████| 13/13 [02:29<00:00, 11.51s/it]Process: 0, test loss: 1.272147297859192, test IoU: 0.11672372370958328\n",
            "\n"
          ]
        }
      ]
    },
    {
      "cell_type": "code",
      "source": [],
      "metadata": {
        "id": "nzgEWOkzkM-c"
      },
      "execution_count": null,
      "outputs": []
    }
  ]
}